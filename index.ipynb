{
 "cells": [
  {
   "cell_type": "markdown",
   "metadata": {},
   "source": [
    "# Links to some teaching material\n",
    "\n",
    "<div style=\"text-align: right\"> Michel Ferrero</div>\n",
    "<div style=\"text-align: right\"> Ecole Polytechnique</div>\n",
    "<div style=\"text-align: right\"> France</div>\n",
    "\n",
    "\n",
    "## Schools\n",
    "\n",
    "- [Jouvence 2022](https://mferrero.github.io/jouvence_2022/index.html)\n",
    "\n",
    "- [Les Houches School on Computational Physics 2021](https://mferrero.github.io/les_houches_2021/website/index.html)\n",
    "\n",
    "\n",
    "## Questions / comments\n",
    "\n",
    "For any questions or comments, feel free to contact me:\n",
    "\n",
    "```bash\n",
    "michel.ferrero@polytechnique.edu\n",
    "```"
   ]
  }
 ],
 "metadata": {
  "kernelspec": {
   "display_name": "Python 3",
   "language": "python",
   "name": "python3"
  },
  "language_info": {
   "codemirror_mode": {
    "name": "ipython",
    "version": 3
   },
   "file_extension": ".py",
   "mimetype": "text/x-python",
   "name": "python",
   "nbconvert_exporter": "python",
   "pygments_lexer": "ipython3",
   "version": "3.8.5"
  }
 },
 "nbformat": 4,
 "nbformat_minor": 4
}
