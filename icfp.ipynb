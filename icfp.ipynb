{
 "cells": [
  {
   "cell_type": "markdown",
   "metadata": {},
   "source": [
    "# Algorithms and Computations\n",
    "\n",
    "Here is some material about the 2023-2024 lecture.\n",
    "\n",
    "## Slack\n",
    "\n",
    "- [Slack channel](http://algocomp2023.slack.com/)\n",
    "\n",
    "- [Invitation link](https://join.slack.com/t/algocomp2023/shared_invite/zt-22oklysrb-hJDBQOmDiSXE_MjM5oa5aQ)\n",
    "\n",
    "\n",
    "## Notebooks for the tutorials\n",
    "\n",
    "\n",
    "### Introductions\n",
    "\n",
    "- [Introduction to python](https://colab.research.google.com/drive/1N3hVckrBgFuTfuAvvhs3BIP0sa3COs53?usp=sharing)\n",
    "\n",
    "- [Introduction to numpy](https://colab.research.google.com/drive/1Lwb54sQ5ZhIVi1Cr211URQG-qcnYK5cc?usp=sharing)\n",
    "\n",
    "- [Introduction to matplotlib](https://colab.research.google.com/drive/12DjST3K3DcRxGtzDbChEtTuR8jVZi844?usp=sharing)\n",
    "\n",
    "\n",
    "### Week 2 - Vortex in Bose-Einstein Condensate\n",
    "\n",
    "- [Notebook](https://colab.research.google.com/drive/1vzcqrYAO6DGTMA0EP9J1nMQfqB1Px2dS?usp=sharing)\n",
    "\n",
    "- [Solution](https://colab.research.google.com/drive/175SSv5zITsCL-ORhb_48-XscCXVvMdIp?usp=sharing)\n",
    "\n",
    "\n",
    "### Week 3 - Spin-1/2 Heisenberg Antiferromagnet\n",
    "\n",
    "- [Notebook](https://colab.research.google.com/drive/1jKQLi5QnviIeRBl_dtUL9AOlJbjyoAso)\n",
    "\n",
    "- [Solution](https://colab.research.google.com/drive/11GbC4I7BslOb7P903n-cSx2LwaMJ6S5o)\n",
    "\n",
    "\n",
    "### Week 4 - The Markov Matrix\n",
    "\n",
    "- [Notebook](https://colab.research.google.com/drive/1zeLHBbN9ga4woffsVPCOLVGImfAWoTln)\n",
    "\n",
    "- [Solution](https://colab.research.google.com/drive/1T5jI8UuQQ9MTh38fqreOvj_LTTAeyGQh)\n",
    "\n",
    "\n",
    "### Week 5 - Sampling and stochastic integration\n",
    "\n",
    "- [Notebook](https://colab.research.google.com/drive/1rQVHXbKXjqT4n4ItU8xqBCCPdHAA5A1d)\n",
    "\n",
    "- [Solution](https://colab.research.google.com/drive/1WjM8nRrbpq2Zn84qvB6goPaONiKn_D11)\n"
   ]
  }
 ],
 "metadata": {
  "kernelspec": {
   "display_name": "Python 3",
   "language": "python",
   "name": "python3"
  },
  "language_info": {
   "codemirror_mode": {
    "name": "ipython",
    "version": 3
   },
   "file_extension": ".py",
   "mimetype": "text/x-python",
   "name": "python",
   "nbconvert_exporter": "python",
   "pygments_lexer": "ipython3",
   "version": "3.8.5"
  }
 },
 "nbformat": 4,
 "nbformat_minor": 4
}
