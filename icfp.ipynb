{
 "cells": [
  {
   "cell_type": "markdown",
   "metadata": {},
   "source": [
    "# Algorithms and Computations\n",
    "\n",
    "Here is some material about the 2023-2024 lecture.\n",
    "\n",
    "## Slack\n",
    "\n",
    "- [Slack channel](http://algocomp2023.slack.com/)\n",
    "\n",
    "- [Invitation link](https://join.slack.com/t/algocomp2023/shared_invite/zt-22oklysrb-hJDBQOmDiSXE_MjM5oa5aQ)\n",
    "\n",
    "\n",
    "## Notebooks for the tutorials\n",
    "\n",
    "\n",
    "### Introductions\n",
    "\n",
    "- [Introduction to python](https://colab.research.google.com/drive/1N3hVckrBgFuTfuAvvhs3BIP0sa3COs53?usp=sharing)\n",
    "\n",
    "- [Introduction to numpy](https://colab.research.google.com/drive/1Lwb54sQ5ZhIVi1Cr211URQG-qcnYK5cc?usp=sharing)\n",
    "\n",
    "- [Introduction to matplotlib](https://colab.research.google.com/drive/12DjST3K3DcRxGtzDbChEtTuR8jVZi844?usp=sharing)\n",
    "\n",
    "\n",
    "### Week 2 - Vortex in Bose-Einstein Condensate\n",
    "\n",
    "- [Notebook](https://colab.research.google.com/drive/1vzcqrYAO6DGTMA0EP9J1nMQfqB1Px2dS?usp=sharing)\n",
    "\n",
    "- [Solution](https://colab.research.google.com/drive/175SSv5zITsCL-ORhb_48-XscCXVvMdIp?usp=sharing)\n"
   ]
  }
 ],
 "metadata": {
  "kernelspec": {
   "display_name": "Python 3 (ipykernel)",
   "language": "python",
   "name": "python3"
  },
  "language_info": {
   "codemirror_mode": {
    "name": "ipython",
    "version": 3
   },
   "file_extension": ".py",
   "mimetype": "text/x-python",
   "name": "python",
   "nbconvert_exporter": "python",
   "pygments_lexer": "ipython3",
   "version": "3.10.12"
  }
 },
 "nbformat": 4,
 "nbformat_minor": 4
}
