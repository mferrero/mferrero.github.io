{
 "cells": [
  {
   "cell_type": "markdown",
   "metadata": {},
   "source": [
    "## Installing the CT-INT solver\n",
    "\n",
    "The CT-INT solver needs to be compiled from its sources.\n",
    "\n",
    "### Prerequisites\n",
    "\n",
    "- The [TRIQS library](https://triqs.github.io/triqs/latest/).\n",
    "  In the following, we assume that TRIQS is installed in the directory `path_to_triqs`.\n",
    "\n",
    "### Installation steps\n",
    "\n",
    "- Create an installation directory and go in this directory:\n",
    "  ```bash\n",
    "  mkdir ctint\n",
    "  cd ctint\n",
    "  ```\n",
    "\n",
    "- Download the source code from github:\n",
    "  ```bash\n",
    "  git clone https://github.com/mferrero/ctint.git src\n",
    "  ```\n",
    "\n",
    "- Ensure that your shell contains the TRIQS environment variables by sourcing the\n",
    "  ``triqsvars.sh`` file from your TRIQS installation:\n",
    "  ```bash\n",
    "  source path_to_triqs/share/triqsvarsh.sh\n",
    "  ```\n",
    "\n",
    "- Create a build directory and go in this directory:\n",
    "  ```bash\n",
    "  mkdir build\n",
    "  cd build\n",
    "  ```\n",
    "  \n",
    "- Call `cmake` to prepare for the compilation:\n",
    "  ```bash\n",
    "  cmake ../src\n",
    "  ```\n",
    "\n",
    "- Compile the code, run the tests and install the application:\n",
    "  ```bash\n",
    "  make\n",
    "  make test\n",
    "  make install\n",
    "  ```"
   ]
  }
 ],
 "metadata": {
  "kernelspec": {
   "display_name": "Python 3",
   "language": "python",
   "name": "python3"
  },
  "language_info": {
   "codemirror_mode": {
    "name": "ipython",
    "version": 3
   },
   "file_extension": ".py",
   "mimetype": "text/x-python",
   "name": "python",
   "nbconvert_exporter": "python",
   "pygments_lexer": "ipython3",
   "version": "3.8.5"
  }
 },
 "nbformat": 4,
 "nbformat_minor": 4
}
